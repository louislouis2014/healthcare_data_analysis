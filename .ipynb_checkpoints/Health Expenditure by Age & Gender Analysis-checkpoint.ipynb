{
 "cells": [
  {
   "cell_type": "markdown",
   "metadata": {},
   "source": [
    "### 1. Initial Configuration"
   ]
  },
  {
   "cell_type": "markdown",
   "metadata": {
    "heading_collapsed": true
   },
   "source": [
    "#### 1.1 Imports & Config"
   ]
  },
  {
   "cell_type": "code",
   "execution_count": 2,
   "metadata": {
    "cell_style": "center",
    "collapsed": true,
    "hidden": true
   },
   "outputs": [],
   "source": [
    "# data analysis\n",
    "import numpy as np\n",
    "import pandas as pd\n",
    "import xlwings as xw\n",
    "\n",
    "# plotly\n",
    "import plotly.plotly as py\n",
    "import plotly.graph_objs as go\n",
    "import plotly.offline as po\n",
    "import plotly.figure_factory as ff\n",
    "\n",
    "# colors\n",
    "import colorlover as cl\n",
    "from IPython.display import HTML\n",
    "\n",
    "import os"
   ]
  },
  {
   "cell_type": "code",
   "execution_count": 3,
   "metadata": {
    "collapsed": true,
    "hidden": true
   },
   "outputs": [],
   "source": [
    "%matplotlib inline"
   ]
  },
  {
   "cell_type": "code",
   "execution_count": 4,
   "metadata": {
    "cell_style": "center",
    "hidden": true
   },
   "outputs": [
    {
     "data": {
      "text/html": [
       "<script>requirejs.config({paths: { 'plotly': ['https://cdn.plot.ly/plotly-latest.min']},});if(!window.Plotly) {{require(['plotly'],function(plotly) {window.Plotly=plotly;});}}</script>"
      ],
      "text/vnd.plotly.v1+html": [
       "<script>requirejs.config({paths: { 'plotly': ['https://cdn.plot.ly/plotly-latest.min']},});if(!window.Plotly) {{require(['plotly'],function(plotly) {window.Plotly=plotly;});}}</script>"
      ]
     },
     "metadata": {},
     "output_type": "display_data"
    }
   ],
   "source": [
    "po.init_notebook_mode(connected=True)"
   ]
  },
  {
   "cell_type": "markdown",
   "metadata": {},
   "source": [
    "#### 1.2 Code Examples"
   ]
  },
  {
   "cell_type": "code",
   "execution_count": 106,
   "metadata": {
    "scrolled": true
   },
   "outputs": [
    {
     "data": {
      "text/html": [
       "<div style=\"background-color:rgb(166,206,227);height:20px;width:20px;display:inline-block;\"></div><div style=\"background-color:rgb(31,120,180);height:20px;width:20px;display:inline-block;\"></div><div style=\"background-color:rgb(178,223,138);height:20px;width:20px;display:inline-block;\"></div><div style=\"background-color:rgb(51,160,44);height:20px;width:20px;display:inline-block;\"></div><div style=\"background-color:rgb(251,154,153);height:20px;width:20px;display:inline-block;\"></div><div style=\"background-color:rgb(227,26,28);height:20px;width:20px;display:inline-block;\"></div><div style=\"background-color:rgb(253,191,111);height:20px;width:20px;display:inline-block;\"></div><div style=\"background-color:rgb(255,127,0);height:20px;width:20px;display:inline-block;\"></div><div style=\"background-color:rgb(202,178,214);height:20px;width:20px;display:inline-block;\"></div><div style=\"background-color:rgb(106,61,154);height:20px;width:20px;display:inline-block;\"></div>"
      ],
      "text/plain": [
       "<IPython.core.display.HTML object>"
      ]
     },
     "execution_count": 106,
     "metadata": {},
     "output_type": "execute_result"
    }
   ],
   "source": [
    "HTML(cl.to_html(cl.scales['10']['qual']['Paired']))"
   ]
  },
  {
   "cell_type": "code",
   "execution_count": 31,
   "metadata": {},
   "outputs": [
    {
     "data": {
      "text/html": [
       "<div style=\"background-color:rgb(240,249,232);height:20px;width:20px;display:inline-block;\"></div><div style=\"background-color:rgb(186,228,188);height:20px;width:20px;display:inline-block;\"></div><div style=\"background-color:rgb(123,204,196);height:20px;width:20px;display:inline-block;\"></div><div style=\"background-color:rgb(67,162,202);height:20px;width:20px;display:inline-block;\"></div><div style=\"background-color:rgb(8,104,172);height:20px;width:20px;display:inline-block;\"></div>"
      ],
      "text/plain": [
       "<IPython.core.display.HTML object>"
      ]
     },
     "execution_count": 31,
     "metadata": {},
     "output_type": "execute_result"
    }
   ],
   "source": [
    "HTML(cl.to_html(cl.scales['5']['seq']['GnBu']))"
   ]
  },
  {
   "cell_type": "markdown",
   "metadata": {
    "heading_collapsed": true
   },
   "source": [
    "#### 1.3 Global Functions"
   ]
  },
  {
   "cell_type": "code",
   "execution_count": 5,
   "metadata": {
    "collapsed": true,
    "hidden": true
   },
   "outputs": [],
   "source": [
    "def strip_totals(df):\n",
    "    cols = df.columns\n",
    "    rows_to_remove = pd.Series().reindex_like(df)\n",
    "    rows_to_remove.loc[:] = False\n",
    "\n",
    "    for col in cols:\n",
    "        try:\n",
    "            rows_to_remove = (rows_to_remove | df[col].str.contains('Total'))\n",
    "        except AttributeError:\n",
    "            continue\n",
    "\n",
    "    return df[-rows_to_remove]"
   ]
  },
  {
   "cell_type": "markdown",
   "metadata": {},
   "source": [
    "### My Work"
   ]
  },
  {
   "cell_type": "code",
   "execution_count": 15,
   "metadata": {
    "collapsed": true,
    "hide_input": true
   },
   "outputs": [],
   "source": [
    "data = pd.read_csv(\n",
    "    r'.\\Healthcare Data\\Health Expenditure by Age and Gender\\age and gender.csv'\n",
    ")"
   ]
  },
  {
   "cell_type": "code",
   "execution_count": 16,
   "metadata": {
    "collapsed": true,
    "hide_input": true
   },
   "outputs": [],
   "source": [
    "# Reshape\n",
    "hlth_spend = data.melt(\n",
    "    id_vars = data.columns[:4], \n",
    "    value_vars = data.columns[4:],\n",
    "    var_name = 'Year',\n",
    "    value_name = 'Spending(M)'\n",
    ")\n",
    "\n",
    "# Rename\n",
    "hlth_spend.rename(\n",
    "    columns = {\n",
    "        col_nm: col_nm.replace(' ','') for col_nm in hlth_spend.columns\n",
    "    }, \n",
    "    inplace=True\n",
    ")"
   ]
  },
  {
   "cell_type": "code",
   "execution_count": 78,
   "metadata": {
    "collapsed": true
   },
   "outputs": [],
   "source": [
    "data = pd.read_csv(r'.\\Healthcare Data\\Health Expenditure by Age and Gender\\age and gender.csv')"
   ]
  },
  {
   "cell_type": "code",
   "execution_count": 82,
   "metadata": {},
   "outputs": [],
   "source": [
    "hlth_spend = data.melt(\n",
    "    id_vars = data.columns[:4],\n",
    "    value_vars = data.columns[4:],\n",
    "    var_name = 'Year',\n",
    "    value_name = 'Spend'\n",
    ")"
   ]
  },
  {
   "cell_type": "code",
   "execution_count": 101,
   "metadata": {
    "hide_input": true,
    "scrolled": true
   },
   "outputs": [
    {
     "data": {
      "text/html": [
       "<div>\n",
       "<style>\n",
       "    .dataframe thead tr:only-child th {\n",
       "        text-align: right;\n",
       "    }\n",
       "\n",
       "    .dataframe thead th {\n",
       "        text-align: left;\n",
       "    }\n",
       "\n",
       "    .dataframe tbody tr th {\n",
       "        vertical-align: top;\n",
       "    }\n",
       "</style>\n",
       "<table border=\"1\" class=\"dataframe\">\n",
       "  <thead>\n",
       "    <tr style=\"text-align: right;\">\n",
       "      <th>Year</th>\n",
       "      <th>2002</th>\n",
       "      <th>2004</th>\n",
       "      <th>2006</th>\n",
       "      <th>2008</th>\n",
       "      <th>2010</th>\n",
       "      <th>2012</th>\n",
       "    </tr>\n",
       "    <tr>\n",
       "      <th>Service</th>\n",
       "      <th></th>\n",
       "      <th></th>\n",
       "      <th></th>\n",
       "      <th></th>\n",
       "      <th></th>\n",
       "      <th></th>\n",
       "    </tr>\n",
       "  </thead>\n",
       "  <tbody>\n",
       "    <tr>\n",
       "      <th>Dental Services</th>\n",
       "      <td>73445</td>\n",
       "      <td>81751</td>\n",
       "      <td>91144</td>\n",
       "      <td>101939</td>\n",
       "      <td>105033</td>\n",
       "      <td>108855</td>\n",
       "    </tr>\n",
       "    <tr>\n",
       "      <th>Durable Medical Equipment</th>\n",
       "      <td>27130</td>\n",
       "      <td>30371</td>\n",
       "      <td>34412</td>\n",
       "      <td>37681</td>\n",
       "      <td>39924</td>\n",
       "      <td>43677</td>\n",
       "    </tr>\n",
       "    <tr>\n",
       "      <th>Home Health Care</th>\n",
       "      <td>36464</td>\n",
       "      <td>44639</td>\n",
       "      <td>52054</td>\n",
       "      <td>62321</td>\n",
       "      <td>71055</td>\n",
       "      <td>76874</td>\n",
       "    </tr>\n",
       "    <tr>\n",
       "      <th>Hospital Care</th>\n",
       "      <td>486480</td>\n",
       "      <td>565378</td>\n",
       "      <td>651218</td>\n",
       "      <td>727631</td>\n",
       "      <td>817617</td>\n",
       "      <td>902675</td>\n",
       "    </tr>\n",
       "    <tr>\n",
       "      <th>Nursing Care Facilities and Continuing Care Retirement Communities</th>\n",
       "      <td>94500</td>\n",
       "      <td>105436</td>\n",
       "      <td>116870</td>\n",
       "      <td>131518</td>\n",
       "      <td>140903</td>\n",
       "      <td>148308</td>\n",
       "    </tr>\n",
       "    <tr>\n",
       "      <th>Other Health Residential and Personal Care</th>\n",
       "      <td>76708</td>\n",
       "      <td>89343</td>\n",
       "      <td>101084</td>\n",
       "      <td>114521</td>\n",
       "      <td>129009</td>\n",
       "      <td>137937</td>\n",
       "    </tr>\n",
       "    <tr>\n",
       "      <th>Other Nondurable Medical Products</th>\n",
       "      <td>33293</td>\n",
       "      <td>38088</td>\n",
       "      <td>43732</td>\n",
       "      <td>49473</td>\n",
       "      <td>51245</td>\n",
       "      <td>53733</td>\n",
       "    </tr>\n",
       "    <tr>\n",
       "      <th>Other Professional Services</th>\n",
       "      <td>43341</td>\n",
       "      <td>49887</td>\n",
       "      <td>54540</td>\n",
       "      <td>63681</td>\n",
       "      <td>69894</td>\n",
       "      <td>77572</td>\n",
       "    </tr>\n",
       "    <tr>\n",
       "      <th>Physician and Clinical Services</th>\n",
       "      <td>338339</td>\n",
       "      <td>390435</td>\n",
       "      <td>435919</td>\n",
       "      <td>483745</td>\n",
       "      <td>516364</td>\n",
       "      <td>563043</td>\n",
       "    </tr>\n",
       "    <tr>\n",
       "      <th>Prescription Drugs</th>\n",
       "      <td>157917</td>\n",
       "      <td>192826</td>\n",
       "      <td>224074</td>\n",
       "      <td>241422</td>\n",
       "      <td>253035</td>\n",
       "      <td>259120</td>\n",
       "    </tr>\n",
       "  </tbody>\n",
       "</table>\n",
       "</div>"
      ],
      "text/plain": [
       "Year                                                  2002    2004    2006  \\\n",
       "Service                                                                      \n",
       "Dental Services                                      73445   81751   91144   \n",
       "Durable Medical Equipment                            27130   30371   34412   \n",
       "Home Health Care                                     36464   44639   52054   \n",
       "Hospital Care                                       486480  565378  651218   \n",
       "Nursing Care Facilities and Continuing Care Ret...   94500  105436  116870   \n",
       "Other Health Residential and Personal Care           76708   89343  101084   \n",
       "Other Nondurable Medical Products                    33293   38088   43732   \n",
       "Other Professional Services                          43341   49887   54540   \n",
       "Physician and Clinical Services                     338339  390435  435919   \n",
       "Prescription Drugs                                  157917  192826  224074   \n",
       "\n",
       "Year                                                  2008    2010    2012  \n",
       "Service                                                                     \n",
       "Dental Services                                     101939  105033  108855  \n",
       "Durable Medical Equipment                            37681   39924   43677  \n",
       "Home Health Care                                     62321   71055   76874  \n",
       "Hospital Care                                       727631  817617  902675  \n",
       "Nursing Care Facilities and Continuing Care Ret...  131518  140903  148308  \n",
       "Other Health Residential and Personal Care          114521  129009  137937  \n",
       "Other Nondurable Medical Products                    49473   51245   53733  \n",
       "Other Professional Services                          63681   69894   77572  \n",
       "Physician and Clinical Services                     483745  516364  563043  \n",
       "Prescription Drugs                                  241422  253035  259120  "
      ]
     },
     "execution_count": 101,
     "metadata": {},
     "output_type": "execute_result"
    }
   ],
   "source": [
    "spend_by_service = strip_totals(hlth_spend).pivot_table(\n",
    "    values = 'Spend',\n",
    "    index = 'Service',\n",
    "    columns = 'Year',\n",
    "    aggfunc = np.sum\n",
    ")\n",
    "spend_by_service"
   ]
  },
  {
   "cell_type": "code",
   "execution_count": 111,
   "metadata": {},
   "outputs": [
    {
     "data": {
      "text/plain": [
       "Index(['Hospital Care', 'Physician and Clinical Services',\n",
       "       'Prescription Drugs',\n",
       "       'Nursing Care Facilities and Continuing Care Retirement Communities',\n",
       "       'Other Health Residential and Personal Care', 'Dental Services',\n",
       "       'Other Professional Services', 'Home Health Care',\n",
       "       'Other Nondurable Medical Products', 'Durable Medical Equipment'],\n",
       "      dtype='object', name='Service')"
      ]
     },
     "execution_count": 111,
     "metadata": {},
     "output_type": "execute_result"
    }
   ],
   "source": [
    "service_order = spend_by_service.iloc[:, -1].sort_values(ascending=False).index\n",
    "service_order"
   ]
  },
  {
   "cell_type": "code",
   "execution_count": 113,
   "metadata": {
    "code_folding": [
     0
    ],
    "collapsed": true
   },
   "outputs": [],
   "source": [
    "def stacked_line_plot(df, x, y_labels, color_scale, nbr_form='{:.1f}%', normalize=True):\n",
    "    # Containers\n",
    "    y_org = []\n",
    "    y_cum = []\n",
    "    y_txt = []\n",
    "    traces = []\n",
    "    \n",
    "    # Normalized Data\n",
    "    if normalize:\n",
    "        df = (df / df.sum(axis=0))\n",
    "    \n",
    "    # Original Y Data\n",
    "    for y in y_labels:\n",
    "        y_org.append(df.loc[y])\n",
    "    \n",
    "    # Cumulative Y Data\n",
    "    for y in y_org:\n",
    "        if len(y_cum) == 0:\n",
    "            y_cum.append(y)\n",
    "        else:\n",
    "            y_cum.append( y_cum[-1] + y ) \n",
    " \n",
    "    # Text Formatted Y Data\n",
    "    for y in y_org:\n",
    "        y_txt.append([nbr_form.format(num * 100) for num in y])\n",
    "\n",
    "    # Build Traces\n",
    "    trace_data = zip(y_cum, y_txt, color_scale, y_labels)\n",
    "\n",
    "    for y, y_txt, color, name in trace_data:\n",
    "        trace = go.Scatter(\n",
    "            x = x,\n",
    "            y = y,\n",
    "            text = y_txt,\n",
    "            hoverinfo = 'x+text',\n",
    "            mode = 'lines',\n",
    "            line = dict(\n",
    "                width = 3,\n",
    "                color = color\n",
    "            ),\n",
    "            fill = 'tonexty',\n",
    "            name = name\n",
    "        )\n",
    "        traces.append(trace)\n",
    "\n",
    "    fig = go.Figure(data=traces)\n",
    "    po.plot(fig, filename='my-stacked-area-plot-hover')"
   ]
  },
  {
   "cell_type": "code",
   "execution_count": 114,
   "metadata": {
    "code_folding": []
   },
   "outputs": [
    {
     "name": "stderr",
     "output_type": "stream",
     "text": [
      "C:\\Users\\LB17108\\AppData\\Local\\Continuum\\Anaconda3\\lib\\site-packages\\plotly\\offline\\offline.py:459: UserWarning:\n",
      "\n",
      "Your filename `my-stacked-area-plot-hover` didn't end with .html. Adding .html to the end of your file.\n",
      "\n"
     ]
    }
   ],
   "source": [
    "stacked_line_plot(\n",
    "    df = spend_by_service,\n",
    "    x = spend_by_service.columns,\n",
    "    y_labels = service_order,\n",
    "    color_scale = cl.scales['10']['qual']['Paired']\n",
    ")"
   ]
  }
 ],
 "metadata": {
  "anaconda-cloud": {},
  "hide_input": false,
  "kernelspec": {
   "display_name": "Python 3",
   "language": "python",
   "name": "python3"
  },
  "language_info": {
   "codemirror_mode": {
    "name": "ipython",
    "version": 3
   },
   "file_extension": ".py",
   "mimetype": "text/x-python",
   "name": "python",
   "nbconvert_exporter": "python",
   "pygments_lexer": "ipython3",
   "version": "3.6.1"
  }
 },
 "nbformat": 4,
 "nbformat_minor": 1
}
